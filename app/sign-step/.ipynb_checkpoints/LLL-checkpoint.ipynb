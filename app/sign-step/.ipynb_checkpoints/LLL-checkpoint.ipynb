{
 "cells": [
  {
   "cell_type": "code",
   "execution_count": 21,
   "metadata": {},
   "outputs": [],
   "source": [
    "import numpy as np\n"
   ]
  },
  {
   "cell_type": "code",
   "execution_count": 27,
   "metadata": {},
   "outputs": [
    {
     "name": "stdout",
     "output_type": "stream",
     "text": [
      "[50001, 50001, 50001, 50001, 50001]\n",
      "[555, 46775, 90832, 33212, 30077]\n",
      "[[2.00006e+05 0.00000e+00 0.00000e+00 0.00000e+00 0.00000e+00 0.00000e+00]\n",
      " [0.00000e+00 2.00006e+05 0.00000e+00 0.00000e+00 0.00000e+00 0.00000e+00]\n",
      " [0.00000e+00 0.00000e+00 2.00006e+05 0.00000e+00 0.00000e+00 0.00000e+00]\n",
      " [0.00000e+00 0.00000e+00 0.00000e+00 2.00006e+05 0.00000e+00 0.00000e+00]\n",
      " [0.00000e+00 0.00000e+00 0.00000e+00 0.00000e+00 2.00006e+05 0.00000e+00]\n",
      " [1.98896e+05 1.06456e+05 1.83420e+04 1.33582e+05 1.39852e+05 1.00000e+00]]\n",
      "[50001.0, 50001.0, 50001.0, 50001.0, 50001.0, 0]\n"
     ]
    }
   ],
   "source": [
    "## read lines\n",
    "## store M, R, Q in lists    \n",
    "m = []\n",
    "r = []\n",
    "q = []\n",
    "\n",
    "with open(\"data.txt\") as f:\n",
    "    for line in f:\n",
    "        l = line.split(\":\")\n",
    "        m.append(int(l[0]))\n",
    "        r.append(int(l[1]))\n",
    "        q.append(int(l[2]))\n",
    "\n",
    "M = m[0]\n",
    "Q = q[0] ## they are all the same\n",
    "N = len(m)\n",
    "print(m)\n",
    "print(r)\n",
    "\n",
    "B_matrix = np.zeros((N+1, N+1))\n",
    "for i in range(len(q)):\n",
    "    B_matrix[i][i] = 2*Q\n",
    "    \n",
    "for i in range(len(r)): ## filling with (q - r_1)... (q - r_n)\n",
    "    B_matrix[N][i] = 2*(Q - r[i]) ## 2^l * t\n",
    "    \n",
    "B_matrix[N][N] = 1\n",
    "\n",
    "u = [2*M/2] * N\n",
    "u.append(0)\n",
    "\n",
    "\n",
    "print(B_matrix)\n",
    "print(u)"
   ]
  },
  {
   "cell_type": "code",
   "execution_count": 28,
   "metadata": {},
   "outputs": [],
   "source": [
    "B_prime_stack_BU = np.vstack((B_matrix, u))\n",
    "\n",
    "B_complete = np.hstack((B_prime_stack_BU,np.zeros((B_prime_stack_BU.shape[0],1))))\n",
    "B_complete[N+1][N+1] = Q"
   ]
  },
  {
   "cell_type": "code",
   "execution_count": 29,
   "metadata": {},
   "outputs": [],
   "source": [
    "np.savetxt(\"B_prime.txt\", B_complete, fmt=\"%u\", delimiter=\" \", newline = \"]\\n[\", header=\"[[\", footer=\"]]\")"
   ]
  },
  {
   "cell_type": "code",
   "execution_count": null,
   "metadata": {},
   "outputs": [],
   "source": []
  },
  {
   "cell_type": "code",
   "execution_count": null,
   "metadata": {},
   "outputs": [],
   "source": []
  }
 ],
 "metadata": {
  "kernelspec": {
   "display_name": "Python 3",
   "language": "python",
   "name": "python3"
  },
  "language_info": {
   "codemirror_mode": {
    "name": "ipython",
    "version": 3
   },
   "file_extension": ".py",
   "mimetype": "text/x-python",
   "name": "python",
   "nbconvert_exporter": "python",
   "pygments_lexer": "ipython3",
   "version": "3.6.5"
  }
 },
 "nbformat": 4,
 "nbformat_minor": 2
}
