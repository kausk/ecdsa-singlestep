{
 "cells": [
  {
   "cell_type": "code",
   "execution_count": 80,
   "metadata": {},
   "outputs": [],
   "source": [
    "import numpy as np\n",
    "import simplejson\n",
    "import fileinput\n",
    "import sys\n",
    "\n",
    "INPUT_FILE = \"sec444.txt\"\n",
    "OUTPUT_FILE = \"B444_prime.txt\""
   ]
  },
  {
   "cell_type": "code",
   "execution_count": 81,
   "metadata": {},
   "outputs": [],
   "source": [
    "## read lines\n",
    "## store M, R, Q in lists    \n",
    "m = []\n",
    "r = []\n",
    "q = []\n",
    "\n",
    "with open(INPUT_FILE) as f:\n",
    "    for line in f:\n",
    "        l = line.split(\":\")\n",
    "        m.append(int(l[0]))\n",
    "        r.append(int(l[1]))\n",
    "        q.append(int(l[2]))\n",
    "\n",
    "M = m[0]\n",
    "Q = q[0] ## they are all the same\n",
    "N = len(m)\n",
    "\n",
    "B_matrix = np.zeros((N+1, N+1))\n",
    "for i in range(len(q)):\n",
    "    B_matrix[i][i] = 2*Q\n",
    "    \n",
    "for i in range(len(r)): ## filling with (q - r_1)... (q - r_n)\n",
    "    B_matrix[N][i] = 2*(Q - r[i]) ## 2^l * t\n",
    "    \n",
    "B_matrix[N][N] = 1\n",
    "\n",
    "u = [2*M/2] * N\n",
    "u.append(0)"
   ]
  },
  {
   "cell_type": "code",
   "execution_count": 82,
   "metadata": {},
   "outputs": [],
   "source": [
    "B_prime_stack_BU = np.vstack((B_matrix, u))\n",
    "\n",
    "B_complete = np.hstack((B_prime_stack_BU,np.zeros((B_prime_stack_BU.shape[0],1))))\n",
    "B_complete[N+1][N+1] = Q"
   ]
  },
  {
   "cell_type": "code",
   "execution_count": 83,
   "metadata": {},
   "outputs": [],
   "source": [
    "np.savetxt(OUTPUT_FILE, B_complete, fmt=\"%u\", delimiter=\" \", newline = \"\\n\", header=\"\", footer=\"\")"
   ]
  },
  {
   "cell_type": "code",
   "execution_count": 84,
   "metadata": {},
   "outputs": [],
   "source": [
    "\n",
    "for line in fileinput.input([OUTPUT_FILE], inplace=True):\n",
    "    l = line.rstrip(\"\\n\")\n",
    "    sys.stdout.write('[{k}]\\n'.format(k=l))\n",
    "with open(OUTPUT_FILE, 'a') as file:\n",
    "    file.writelines(']')\n",
    "with open(OUTPUT_FILE, 'r') as original: data = original.read()\n",
    "with open(OUTPUT_FILE, 'w') as modified: modified.write(\"[\" + data)"
   ]
  },
  {
   "cell_type": "code",
   "execution_count": null,
   "metadata": {},
   "outputs": [],
   "source": []
  },
  {
   "cell_type": "code",
   "execution_count": null,
   "metadata": {},
   "outputs": [],
   "source": []
  }
 ],
 "metadata": {
  "kernelspec": {
   "display_name": "Python 3",
   "language": "python",
   "name": "python3"
  },
  "language_info": {
   "codemirror_mode": {
    "name": "ipython",
    "version": 3
   },
   "file_extension": ".py",
   "mimetype": "text/x-python",
   "name": "python",
   "nbconvert_exporter": "python",
   "pygments_lexer": "ipython3",
   "version": "3.6.5"
  }
 },
 "nbformat": 4,
 "nbformat_minor": 2
}
